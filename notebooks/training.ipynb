{
  "nbformat": 4,
  "nbformat_minor": 0,
  "metadata": {
    "colab": {
      "provenance": [],
      "toc_visible": true,
      "machine_shape": "hm",
      "gpuType": "L4"
    },
    "kernelspec": {
      "name": "python3",
      "display_name": "Python 3"
    },
    "language_info": {
      "name": "python"
    },
    "accelerator": "GPU"
  },
  "cells": [
    {
      "cell_type": "code",
      "execution_count": 1,
      "metadata": {
        "colab": {
          "base_uri": "https://localhost:8080/"
        },
        "id": "-KKR9MIp7tAz",
        "outputId": "7a099c80-6e2c-46b8-dce4-c38c4074bbfe"
      },
      "outputs": [
        {
          "output_type": "stream",
          "name": "stdout",
          "text": [
            "Mounted at /content/drive\n"
          ]
        }
      ],
      "source": [
        "from google.colab import drive\n",
        "drive.mount('/content/drive', force_remount = True)"
      ]
    },
    {
      "cell_type": "markdown",
      "source": [
        "# Preproc"
      ],
      "metadata": {
        "id": "sNDN-blf70tn"
      }
    },
    {
      "cell_type": "code",
      "source": [
        "import os\n",
        "from tqdm import tqdm\n",
        "from tensorflow.keras.utils import to_categorical\n",
        "from PIL import Image\n",
        "import numpy as np\n",
        "from sklearn.model_selection import train_test_split\n",
        "import tensorflow as tf\n",
        "\n",
        "def load_Preprcess_data(loading_method, image_size=(128, 128), max_images_per_class =None, target_per_class=10000):\n",
        "    \"\"\"\n",
        "    Loads and preprocesses a breast cancer histopathology image dataset for CNN models.\n",
        "\n",
        "    The function:\n",
        "        - Loads all images from benign and malignant folders\n",
        "        - Resizes and normalizes images\n",
        "        - Applies augmentation to classes until each has `target_per_class` samples\n",
        "        - One-hot encodes labels\n",
        "        - Shuffles and splits into train/val/test sets\n",
        "\n",
        "    Parameters\n",
        "    ----------\n",
        "    loading_method : str\n",
        "        Either 'colab' or 'direct'.\n",
        "    image_size : tuple of int\n",
        "        Target size (H, W) for resizing images.\n",
        "    max_images_per_class : int or None\n",
        "        Maximum number of images to load per class. Useful for limiting dataset size during testing.\n",
        "    target_per_class : int\n",
        "        Number of images to have per class after augmentation.\n",
        "\n",
        "    Returns\n",
        "    -------\n",
        "    X_train : np.ndarray\n",
        "    y_train : np.ndarray\n",
        "    X_val : np.ndarray\n",
        "    y_val : np.ndarray\n",
        "    X_test : np.ndarray\n",
        "    y_test : np.ndarray\n",
        "    \"\"\"\n",
        "\n",
        "    # Select path to dataset depending on running environment\n",
        "    if loading_method == 'colab':\n",
        "        # Path for Google Colab\n",
        "        data_path = \"/content/drive/MyDrive/breast_project/breast_cancer_dataset\"\n",
        "    elif loading_method == 'direct':\n",
        "        # Local or direct path\n",
        "        data_path = \"raw_data/breast_cancer/BreaKHis_Total_dataset\"\n",
        "    else:\n",
        "        raise ValueError(\"loading_method must be either 'colab' or 'direct'.\")\n",
        "\n",
        "    imgs = []    # to store image arrays\n",
        "    labels = []  # to store corresponding class labels\n",
        "\n",
        "    # Dictionary mapping class names to numeric labels\n",
        "    classes = {'benign': 0, 'malignant': 1}\n",
        "\n",
        "    # Define augmentation pipeline\n",
        "    augmenter = tf.keras.Sequential([\n",
        "        tf.keras.layers.RandomFlip(\"horizontal_and_vertical\"),\n",
        "        tf.keras.layers.RandomRotation(0.2),\n",
        "        tf.keras.layers.RandomZoom(0.1),\n",
        "        tf.keras.layers.RandomContrast(0.2),\n",
        "        tf.keras.layers.Lambda(lambda x: tf.clip_by_value(x + tf.random.uniform([], -0.1, 0.1), 0.0, 1.0)),  # brightness\n",
        "    ])\n",
        "\n",
        "    # Loop through each class (benign or malignant)\n",
        "    for cl, label in classes.items():\n",
        "        class_dir = os.path.join(data_path, cl)\n",
        "\n",
        "        # List all image filenames in the class directory\n",
        "        images_path = [\n",
        "            f for f in os.listdir(class_dir)\n",
        "            if f.lower().endswith(('.jpg', '.jpeg', '.png'))\n",
        "        ]\n",
        "\n",
        "        # If max_images_per_class is set, limit how many images to load\n",
        "        if max_images_per_class:\n",
        "            images_path = images_path[:max_images_per_class]\n",
        "\n",
        "        original_images = []\n",
        "\n",
        "        # Iterate over each image file in this class\n",
        "        for img_name in tqdm(images_path, desc=f\"Loading {cl} images\"):\n",
        "            img_path = os.path.join(class_dir, img_name)\n",
        "\n",
        "            try:\n",
        "                img = Image.open(img_path).convert('RGB').resize(image_size)\n",
        "                original_images.append(np.array(img) / 255.0)\n",
        "            except Exception as e:\n",
        "                print(f\"Error loading {img_path}: {e}\")\n",
        "\n",
        "\n",
        "        # Augment until we reach target_per_class\n",
        "        current_count = len(original_images)\n",
        "        augmented_images = []\n",
        "\n",
        "        if current_count < target_per_class:\n",
        "            needed = target_per_class - current_count\n",
        "            print(f\"Augmenting {classes}: Need {needed} more images...\")\n",
        "\n",
        "            # Convert to tensor\n",
        "            base_imgs = tf.convert_to_tensor(original_images)\n",
        "            base_imgs = tf.image.resize(base_imgs, image_size)\n",
        "\n",
        "            i = 0\n",
        "            while len(augmented_images) < needed:\n",
        "                batch = augmenter(base_imgs, training=True).numpy()\n",
        "                for idx, img in enumerate(batch):\n",
        "                    augmented_images.append(img)\n",
        "\n",
        "                    # Save the augmented image\n",
        "                    #save_augmented_image(img, class_dir, cl, len(original_images) + len(augmented_images))\n",
        "\n",
        "                    if len(augmented_images) >= needed:\n",
        "                        break\n",
        "\n",
        "\n",
        "        # Combine original and augmented\n",
        "        total_class_imgs = np.concatenate([original_images, augmented_images], axis=0)\n",
        "        total_class_labels = np.full((target_per_class,), label)\n",
        "\n",
        "        imgs.extend(total_class_imgs)\n",
        "        labels.extend(total_class_labels)\n",
        "\n",
        "    # Convert to arrays\n",
        "    X = np.array(imgs, dtype=np.float32)\n",
        "    y = to_categorical(np.array(labels), num_classes=2)\n",
        "\n",
        "    # Shuffle\n",
        "    indices = np.random.permutation(len(X))\n",
        "    X, y = X[indices], y[indices]\n",
        "\n",
        "    # Split\n",
        "    X_temp, X_test, y_temp, y_test = train_test_split(X, y, test_size=1/6, stratify=y, random_state=42)\n",
        "    X_train, X_val, y_train, y_val = train_test_split(X_temp, y_temp, test_size=0.2, stratify=np.argmax(y_temp, axis=1), random_state=42)\n",
        "\n",
        "    return X_train, y_train, X_val, y_val, X_test, y_test, 2\n"
      ],
      "metadata": {
        "id": "tcR09m_m7yV_"
      },
      "execution_count": 2,
      "outputs": []
    },
    {
      "cell_type": "code",
      "source": [
        "X_train, y_train, X_val, y_val, X_test, y_test, num_classes = load_Preprcess_data('colab')"
      ],
      "metadata": {
        "colab": {
          "base_uri": "https://localhost:8080/"
        },
        "id": "xFnk4mqL73vN",
        "outputId": "d14fa80b-040a-4947-ced8-f34c5a8aceb2"
      },
      "execution_count": 3,
      "outputs": [
        {
          "output_type": "stream",
          "name": "stderr",
          "text": [
            "Loading benign images: 100%|██████████| 2479/2479 [08:44<00:00,  4.73it/s]\n"
          ]
        },
        {
          "output_type": "stream",
          "name": "stdout",
          "text": [
            "Augmenting {'benign': 0, 'malignant': 1}: Need 7521 more images...\n"
          ]
        },
        {
          "output_type": "stream",
          "name": "stderr",
          "text": [
            "Loading malignant images: 100%|██████████| 5304/5304 [13:16<00:00,  6.66it/s]\n"
          ]
        },
        {
          "output_type": "stream",
          "name": "stdout",
          "text": [
            "Augmenting {'benign': 0, 'malignant': 1}: Need 4696 more images...\n"
          ]
        }
      ]
    },
    {
      "cell_type": "code",
      "source": [
        "datasets = {\n",
        "    'Train set': y_train,\n",
        "    'Validation set': y_val,\n",
        "    'Test set': y_test}\n",
        "\n",
        "for name, y_data in datasets.items():\n",
        "    counts = np.sum(y_data, axis=0)\n",
        "    print(f\"{name}:\")\n",
        "    print(f\"  Benign: {int(counts[0])}\")\n",
        "    print(f\"  Malignant: {int(counts[1])}\")\n",
        "    print(f\"  Total: {int(np.sum(counts))}\\n\")\n"
      ],
      "metadata": {
        "colab": {
          "base_uri": "https://localhost:8080/"
        },
        "id": "6cXHS66t74QG",
        "outputId": "d5c55f74-209d-4cf5-d761-54a981013cbb"
      },
      "execution_count": 4,
      "outputs": [
        {
          "output_type": "stream",
          "name": "stdout",
          "text": [
            "Train set:\n",
            "  Benign: 6666\n",
            "  Malignant: 6666\n",
            "  Total: 13332\n",
            "\n",
            "Validation set:\n",
            "  Benign: 1667\n",
            "  Malignant: 1667\n",
            "  Total: 3334\n",
            "\n",
            "Test set:\n",
            "  Benign: 1667\n",
            "  Malignant: 1667\n",
            "  Total: 3334\n",
            "\n"
          ]
        }
      ]
    },
    {
      "cell_type": "markdown",
      "source": [
        "# Model"
      ],
      "metadata": {
        "id": "X-p5H_jn78-m"
      }
    },
    {
      "cell_type": "code",
      "source": [
        "# Started from updated base model and unfroze last convolutional block\n",
        "from tensorflow.keras.applications import VGG16\n",
        "from tensorflow.keras.models import Model\n",
        "from tensorflow.keras.layers import Dense, Dropout, GlobalAveragePooling2D, Input\n",
        "from tensorflow.keras.optimizers import Adam\n",
        "from tensorflow.keras.metrics import Precision, Recall\n",
        "\n",
        "IMG_SIZE = 128\n",
        "\n",
        "def build_vgg16_model_unfreeze_2(img_size=IMG_SIZE, learning_rate=0.00001):\n",
        "    base_model = VGG16(\n",
        "        include_top=False,\n",
        "        weights='imagenet',\n",
        "        input_tensor=Input(shape=(img_size, img_size, 3))\n",
        "    )\n",
        "\n",
        "    # Freeze VGG16 base layers\n",
        "    for layer in base_model.layers:\n",
        "      layer.trainable = False\n",
        "\n",
        "    #Unfreeze only the last convolutional block (block 5) for fine-tuning\n",
        "    for layer in base_model.layers:\n",
        "      if 'block5' in layer.name:\n",
        "        layer.trainable = True\n",
        "\n",
        "    # Add custom classification head (based on what we did for the manual architecture)\n",
        "    from tensorflow.keras.layers import BatchNormalization\n",
        "\n",
        "    x = base_model.output\n",
        "    x = GlobalAveragePooling2D()(x)\n",
        "\n",
        "    x = Dense(256, activation='relu')(x)\n",
        "    x = BatchNormalization()(x)\n",
        "    x = Dropout(0.4)(x)\n",
        "\n",
        "    x = Dense(128, activation='relu')(x)\n",
        "    x = Dropout(0.3)(x)\n",
        "\n",
        "    x = Dense(64, activation='relu')(x)\n",
        "    x = Dropout(0.2)(x)\n",
        "\n",
        "    output = Dense(2, activation='softmax')(x)\n",
        "\n",
        "\n",
        "    model = Model(inputs=base_model.input, outputs=output)\n",
        "\n",
        "    model.compile(\n",
        "        optimizer=Adam(learning_rate=learning_rate),\n",
        "        loss='categorical_crossentropy',\n",
        "        metrics=['accuracy', Precision(name=\"precision\"), Recall(name='recall')]\n",
        "    )\n",
        "\n",
        "    return model"
      ],
      "metadata": {
        "id": "QiCRrS-R775N"
      },
      "execution_count": 5,
      "outputs": []
    },
    {
      "cell_type": "code",
      "source": [
        "model_unfreeze_2 = build_vgg16_model_unfreeze_2(img_size=128, learning_rate=0.00001)"
      ],
      "metadata": {
        "colab": {
          "base_uri": "https://localhost:8080/"
        },
        "id": "Tutrtstc8ABO",
        "outputId": "d532eff6-ac90-4800-edd7-91a3a4dadc93"
      },
      "execution_count": 6,
      "outputs": [
        {
          "output_type": "stream",
          "name": "stdout",
          "text": [
            "Downloading data from https://storage.googleapis.com/tensorflow/keras-applications/vgg16/vgg16_weights_tf_dim_ordering_tf_kernels_notop.h5\n",
            "\u001b[1m58889256/58889256\u001b[0m \u001b[32m━━━━━━━━━━━━━━━━━━━━\u001b[0m\u001b[37m\u001b[0m \u001b[1m0s\u001b[0m 0us/step\n"
          ]
        }
      ]
    },
    {
      "cell_type": "code",
      "source": [
        "from tensorflow.keras.callbacks import ModelCheckpoint, ReduceLROnPlateau, EarlyStopping\n",
        "\n",
        "modelCheckpoint = ModelCheckpoint(\"model.keras\", save_best_only=True, monitor='val_loss', mode='min')\n",
        "LRreducer = ReduceLROnPlateau(monitor='val_loss', factor=0.2, patience=3, verbose=1)\n",
        "EarlyStopper = EarlyStopping(monitor='val_loss', patience=6, restore_best_weights=True)\n",
        "\n",
        "history_unfreeze = model_unfreeze_2.fit(\n",
        "    X_train, y_train,\n",
        "    validation_data=(X_val, y_val),\n",
        "    epochs=30,\n",
        "    batch_size=32,\n",
        "    callbacks=[modelCheckpoint, LRreducer, EarlyStopper]\n",
        ")"
      ],
      "metadata": {
        "colab": {
          "base_uri": "https://localhost:8080/"
        },
        "id": "tMxzdR288Cw5",
        "outputId": "bc0a6088-552c-418b-d4d2-8dc4be6805e0"
      },
      "execution_count": 7,
      "outputs": [
        {
          "output_type": "stream",
          "name": "stdout",
          "text": [
            "Epoch 1/30\n"
          ]
        },
        {
          "output_type": "stream",
          "name": "stderr",
          "text": [
            "/usr/local/lib/python3.11/dist-packages/keras/src/models/functional.py:237: UserWarning: The structure of `inputs` doesn't match the expected structure.\n",
            "Expected: ['keras_tensor_8']\n",
            "Received: inputs=Tensor(shape=(None, 128, 128, 3))\n",
            "  warnings.warn(msg)\n"
          ]
        },
        {
          "output_type": "stream",
          "name": "stdout",
          "text": [
            "\u001b[1m417/417\u001b[0m \u001b[32m━━━━━━━━━━━━━━━━━━━━\u001b[0m\u001b[37m\u001b[0m \u001b[1m42s\u001b[0m 69ms/step - accuracy: 0.5810 - loss: 0.8105 - precision: 0.5810 - recall: 0.5810 - val_accuracy: 0.7825 - val_loss: 0.4662 - val_precision: 0.7825 - val_recall: 0.7825 - learning_rate: 1.0000e-05\n",
            "Epoch 2/30\n",
            "\u001b[1m417/417\u001b[0m \u001b[32m━━━━━━━━━━━━━━━━━━━━\u001b[0m\u001b[37m\u001b[0m \u001b[1m15s\u001b[0m 37ms/step - accuracy: 0.7740 - loss: 0.4830 - precision: 0.7740 - recall: 0.7740 - val_accuracy: 0.8377 - val_loss: 0.3735 - val_precision: 0.8377 - val_recall: 0.8377 - learning_rate: 1.0000e-05\n",
            "Epoch 3/30\n",
            "\u001b[1m417/417\u001b[0m \u001b[32m━━━━━━━━━━━━━━━━━━━━\u001b[0m\u001b[37m\u001b[0m \u001b[1m15s\u001b[0m 36ms/step - accuracy: 0.8199 - loss: 0.4011 - precision: 0.8199 - recall: 0.8199 - val_accuracy: 0.8620 - val_loss: 0.3271 - val_precision: 0.8620 - val_recall: 0.8620 - learning_rate: 1.0000e-05\n",
            "Epoch 4/30\n",
            "\u001b[1m417/417\u001b[0m \u001b[32m━━━━━━━━━━━━━━━━━━━━\u001b[0m\u001b[37m\u001b[0m \u001b[1m15s\u001b[0m 36ms/step - accuracy: 0.8523 - loss: 0.3557 - precision: 0.8523 - recall: 0.8523 - val_accuracy: 0.8695 - val_loss: 0.3064 - val_precision: 0.8695 - val_recall: 0.8695 - learning_rate: 1.0000e-05\n",
            "Epoch 5/30\n",
            "\u001b[1m417/417\u001b[0m \u001b[32m━━━━━━━━━━━━━━━━━━━━\u001b[0m\u001b[37m\u001b[0m \u001b[1m15s\u001b[0m 36ms/step - accuracy: 0.8726 - loss: 0.3136 - precision: 0.8726 - recall: 0.8726 - val_accuracy: 0.8839 - val_loss: 0.2805 - val_precision: 0.8839 - val_recall: 0.8839 - learning_rate: 1.0000e-05\n",
            "Epoch 6/30\n",
            "\u001b[1m417/417\u001b[0m \u001b[32m━━━━━━━━━━━━━━━━━━━━\u001b[0m\u001b[37m\u001b[0m \u001b[1m15s\u001b[0m 35ms/step - accuracy: 0.8897 - loss: 0.2779 - precision: 0.8897 - recall: 0.8897 - val_accuracy: 0.8794 - val_loss: 0.2849 - val_precision: 0.8794 - val_recall: 0.8794 - learning_rate: 1.0000e-05\n",
            "Epoch 7/30\n",
            "\u001b[1m417/417\u001b[0m \u001b[32m━━━━━━━━━━━━━━━━━━━━\u001b[0m\u001b[37m\u001b[0m \u001b[1m15s\u001b[0m 36ms/step - accuracy: 0.9101 - loss: 0.2367 - precision: 0.9101 - recall: 0.9101 - val_accuracy: 0.8884 - val_loss: 0.2615 - val_precision: 0.8884 - val_recall: 0.8884 - learning_rate: 1.0000e-05\n",
            "Epoch 8/30\n",
            "\u001b[1m417/417\u001b[0m \u001b[32m━━━━━━━━━━━━━━━━━━━━\u001b[0m\u001b[37m\u001b[0m \u001b[1m15s\u001b[0m 36ms/step - accuracy: 0.9160 - loss: 0.2156 - precision: 0.9160 - recall: 0.9160 - val_accuracy: 0.8995 - val_loss: 0.2424 - val_precision: 0.8995 - val_recall: 0.8995 - learning_rate: 1.0000e-05\n",
            "Epoch 9/30\n",
            "\u001b[1m417/417\u001b[0m \u001b[32m━━━━━━━━━━━━━━━━━━━━\u001b[0m\u001b[37m\u001b[0m \u001b[1m15s\u001b[0m 35ms/step - accuracy: 0.9299 - loss: 0.1851 - precision: 0.9299 - recall: 0.9299 - val_accuracy: 0.8986 - val_loss: 0.2534 - val_precision: 0.8986 - val_recall: 0.8986 - learning_rate: 1.0000e-05\n",
            "Epoch 10/30\n",
            "\u001b[1m417/417\u001b[0m \u001b[32m━━━━━━━━━━━━━━━━━━━━\u001b[0m\u001b[37m\u001b[0m \u001b[1m15s\u001b[0m 36ms/step - accuracy: 0.9416 - loss: 0.1599 - precision: 0.9416 - recall: 0.9416 - val_accuracy: 0.9145 - val_loss: 0.2271 - val_precision: 0.9145 - val_recall: 0.9145 - learning_rate: 1.0000e-05\n",
            "Epoch 11/30\n",
            "\u001b[1m417/417\u001b[0m \u001b[32m━━━━━━━━━━━━━━━━━━━━\u001b[0m\u001b[37m\u001b[0m \u001b[1m15s\u001b[0m 35ms/step - accuracy: 0.9503 - loss: 0.1348 - precision: 0.9503 - recall: 0.9503 - val_accuracy: 0.8842 - val_loss: 0.2894 - val_precision: 0.8842 - val_recall: 0.8842 - learning_rate: 1.0000e-05\n",
            "Epoch 12/30\n",
            "\u001b[1m417/417\u001b[0m \u001b[32m━━━━━━━━━━━━━━━━━━━━\u001b[0m\u001b[37m\u001b[0m \u001b[1m15s\u001b[0m 36ms/step - accuracy: 0.9591 - loss: 0.1102 - precision: 0.9591 - recall: 0.9591 - val_accuracy: 0.9121 - val_loss: 0.2266 - val_precision: 0.9121 - val_recall: 0.9121 - learning_rate: 1.0000e-05\n",
            "Epoch 13/30\n",
            "\u001b[1m417/417\u001b[0m \u001b[32m━━━━━━━━━━━━━━━━━━━━\u001b[0m\u001b[37m\u001b[0m \u001b[1m15s\u001b[0m 35ms/step - accuracy: 0.9686 - loss: 0.0924 - precision: 0.9686 - recall: 0.9686 - val_accuracy: 0.9139 - val_loss: 0.2306 - val_precision: 0.9139 - val_recall: 0.9139 - learning_rate: 1.0000e-05\n",
            "Epoch 14/30\n",
            "\u001b[1m417/417\u001b[0m \u001b[32m━━━━━━━━━━━━━━━━━━━━\u001b[0m\u001b[37m\u001b[0m \u001b[1m15s\u001b[0m 36ms/step - accuracy: 0.9736 - loss: 0.0790 - precision: 0.9736 - recall: 0.9736 - val_accuracy: 0.9214 - val_loss: 0.2256 - val_precision: 0.9214 - val_recall: 0.9214 - learning_rate: 1.0000e-05\n",
            "Epoch 15/30\n",
            "\u001b[1m417/417\u001b[0m \u001b[32m━━━━━━━━━━━━━━━━━━━━\u001b[0m\u001b[37m\u001b[0m \u001b[1m15s\u001b[0m 35ms/step - accuracy: 0.9772 - loss: 0.0706 - precision: 0.9772 - recall: 0.9772 - val_accuracy: 0.9064 - val_loss: 0.2840 - val_precision: 0.9064 - val_recall: 0.9064 - learning_rate: 1.0000e-05\n",
            "Epoch 16/30\n",
            "\u001b[1m417/417\u001b[0m \u001b[32m━━━━━━━━━━━━━━━━━━━━\u001b[0m\u001b[37m\u001b[0m \u001b[1m15s\u001b[0m 36ms/step - accuracy: 0.9804 - loss: 0.0605 - precision: 0.9804 - recall: 0.9804 - val_accuracy: 0.9253 - val_loss: 0.2253 - val_precision: 0.9253 - val_recall: 0.9253 - learning_rate: 1.0000e-05\n",
            "Epoch 17/30\n",
            "\u001b[1m417/417\u001b[0m \u001b[32m━━━━━━━━━━━━━━━━━━━━\u001b[0m\u001b[37m\u001b[0m \u001b[1m15s\u001b[0m 35ms/step - accuracy: 0.9834 - loss: 0.0518 - precision: 0.9834 - recall: 0.9834 - val_accuracy: 0.9160 - val_loss: 0.2519 - val_precision: 0.9160 - val_recall: 0.9160 - learning_rate: 1.0000e-05\n",
            "Epoch 18/30\n",
            "\u001b[1m417/417\u001b[0m \u001b[32m━━━━━━━━━━━━━━━━━━━━\u001b[0m\u001b[37m\u001b[0m \u001b[1m15s\u001b[0m 35ms/step - accuracy: 0.9893 - loss: 0.0341 - precision: 0.9893 - recall: 0.9893 - val_accuracy: 0.9127 - val_loss: 0.3122 - val_precision: 0.9127 - val_recall: 0.9127 - learning_rate: 1.0000e-05\n",
            "Epoch 19/30\n",
            "\u001b[1m415/417\u001b[0m \u001b[32m━━━━━━━━━━━━━━━━━━━\u001b[0m\u001b[37m━\u001b[0m \u001b[1m0s\u001b[0m 29ms/step - accuracy: 0.9909 - loss: 0.0315 - precision: 0.9909 - recall: 0.9909\n",
            "Epoch 19: ReduceLROnPlateau reducing learning rate to 1.9999999494757505e-06.\n",
            "\u001b[1m417/417\u001b[0m \u001b[32m━━━━━━━━━━━━━━━━━━━━\u001b[0m\u001b[37m\u001b[0m \u001b[1m15s\u001b[0m 35ms/step - accuracy: 0.9909 - loss: 0.0315 - precision: 0.9909 - recall: 0.9909 - val_accuracy: 0.8548 - val_loss: 0.5509 - val_precision: 0.8548 - val_recall: 0.8548 - learning_rate: 1.0000e-05\n",
            "Epoch 20/30\n",
            "\u001b[1m417/417\u001b[0m \u001b[32m━━━━━━━━━━━━━━━━━━━━\u001b[0m\u001b[37m\u001b[0m \u001b[1m15s\u001b[0m 35ms/step - accuracy: 0.9921 - loss: 0.0262 - precision: 0.9921 - recall: 0.9921 - val_accuracy: 0.9253 - val_loss: 0.2390 - val_precision: 0.9253 - val_recall: 0.9253 - learning_rate: 2.0000e-06\n",
            "Epoch 21/30\n",
            "\u001b[1m417/417\u001b[0m \u001b[32m━━━━━━━━━━━━━━━━━━━━\u001b[0m\u001b[37m\u001b[0m \u001b[1m15s\u001b[0m 35ms/step - accuracy: 0.9956 - loss: 0.0185 - precision: 0.9956 - recall: 0.9956 - val_accuracy: 0.9295 - val_loss: 0.2351 - val_precision: 0.9295 - val_recall: 0.9295 - learning_rate: 2.0000e-06\n",
            "Epoch 22/30\n",
            "\u001b[1m415/417\u001b[0m \u001b[32m━━━━━━━━━━━━━━━━━━━\u001b[0m\u001b[37m━\u001b[0m \u001b[1m0s\u001b[0m 29ms/step - accuracy: 0.9977 - loss: 0.0132 - precision: 0.9977 - recall: 0.9977\n",
            "Epoch 22: ReduceLROnPlateau reducing learning rate to 3.999999989900971e-07.\n",
            "\u001b[1m417/417\u001b[0m \u001b[32m━━━━━━━━━━━━━━━━━━━━\u001b[0m\u001b[37m\u001b[0m \u001b[1m15s\u001b[0m 35ms/step - accuracy: 0.9977 - loss: 0.0133 - precision: 0.9977 - recall: 0.9977 - val_accuracy: 0.9286 - val_loss: 0.2624 - val_precision: 0.9286 - val_recall: 0.9286 - learning_rate: 2.0000e-06\n"
          ]
        }
      ]
    },
    {
      "cell_type": "code",
      "source": [
        "history_unfreeze.history.keys()"
      ],
      "metadata": {
        "colab": {
          "base_uri": "https://localhost:8080/"
        },
        "id": "DEThTBMV8DmB",
        "outputId": "f375ae5b-8d87-42f1-aa43-0d290427e6c9"
      },
      "execution_count": 8,
      "outputs": [
        {
          "output_type": "execute_result",
          "data": {
            "text/plain": [
              "dict_keys(['accuracy', 'loss', 'precision', 'recall', 'val_accuracy', 'val_loss', 'val_precision', 'val_recall', 'learning_rate'])"
            ]
          },
          "metadata": {},
          "execution_count": 8
        }
      ]
    },
    {
      "cell_type": "code",
      "source": [
        "best_epoch2 = history_unfreeze.history['val_loss'].index(min(history_unfreeze.history['val_loss']))\n",
        "\n",
        "print(f\"Best Epoch: {best_epoch2 + 1}\")\n",
        "print(f\"Best Validation Loss: {history_unfreeze.history['val_loss'][best_epoch2]:.4f}\")\n",
        "print(f\"Best Validation Accuracy: {history_unfreeze.history['val_accuracy'][best_epoch2]:.4f}\")\n",
        "print(f\"Best Validation Precision: {history_unfreeze.history['val_precision'][best_epoch2]:.4f}\")\n",
        "print(f\"Best Validation Recall: {history_unfreeze.history['val_recall'][best_epoch2]:.4f}\")\n"
      ],
      "metadata": {
        "colab": {
          "base_uri": "https://localhost:8080/"
        },
        "id": "LcLuG0FV8GWm",
        "outputId": "096b4cad-4ab8-491c-db04-3e630cfb4557"
      },
      "execution_count": 9,
      "outputs": [
        {
          "output_type": "stream",
          "name": "stdout",
          "text": [
            "Best Epoch: 16\n",
            "Best Validation Loss: 0.2253\n",
            "Best Validation Accuracy: 0.9253\n",
            "Best Validation Precision: 0.9253\n",
            "Best Validation Recall: 0.9253\n"
          ]
        }
      ]
    },
    {
      "cell_type": "markdown",
      "source": [
        "# Plots"
      ],
      "metadata": {
        "id": "5MdVOhbr8m_u"
      }
    },
    {
      "cell_type": "code",
      "source": [
        "# Saves Confusion Matrix\n",
        "from sklearn.metrics import confusion_matrix, ConfusionMatrixDisplay\n",
        "import numpy as np\n",
        "import matplotlib.pyplot as plt\n",
        "\n",
        "# Predict on validation set\n",
        "y_pred = model_unfreeze_2.predict(X_val)\n",
        "y_pred_classes = np.argmax(y_pred, axis=1)\n",
        "y_true_classes = np.argmax(y_val, axis=1)\n",
        "\n",
        "# Compute confusion matrix\n",
        "cm = confusion_matrix(y_true_classes, y_pred_classes)\n",
        "disp = ConfusionMatrixDisplay(confusion_matrix=cm, display_labels=['Benign', 'Malignant'])\n",
        "\n",
        "# Plot and save\n",
        "fig, ax = plt.subplots(figsize=(6, 6))\n",
        "disp.plot(ax=ax, cmap='Purples', colorbar=False)\n",
        "plt.title('Confusion Matrix')\n",
        "plt.savefig(\"confusion_matrix.png\", bbox_inches='tight')\n",
        "plt.show()\n"
      ],
      "metadata": {
        "colab": {
          "base_uri": "https://localhost:8080/",
          "height": 651
        },
        "id": "jos4akxQ8NIc",
        "outputId": "1f22da1e-c565-4f8f-ea56-36433c07a856"
      },
      "execution_count": 10,
      "outputs": [
        {
          "output_type": "stream",
          "name": "stderr",
          "text": [
            "/usr/local/lib/python3.11/dist-packages/keras/src/models/functional.py:237: UserWarning: The structure of `inputs` doesn't match the expected structure.\n",
            "Expected: ['keras_tensor_8']\n",
            "Received: inputs=Tensor(shape=(32, 128, 128, 3))\n",
            "  warnings.warn(msg)\n"
          ]
        },
        {
          "output_type": "stream",
          "name": "stdout",
          "text": [
            "\u001b[1m105/105\u001b[0m \u001b[32m━━━━━━━━━━━━━━━━━━━━\u001b[0m\u001b[37m\u001b[0m \u001b[1m4s\u001b[0m 33ms/step\n"
          ]
        },
        {
          "output_type": "display_data",
          "data": {
            "text/plain": [
              "<Figure size 600x600 with 1 Axes>"
            ],
            "image/png": "[encoded data removed]"
          },
          "metadata": {}
        }
      ]
    },
    {
      "cell_type": "code",
      "source": [
        "# Plot training and validation accuracy\n",
        "plt.figure(figsize=(8,5))\n",
        "plt.plot(history_unfreeze.history['accuracy'], label='Training Accuracy')\n",
        "plt.plot(history_unfreeze.history['val_accuracy'], label='Validation Accuracy')\n",
        "plt.xlabel('Epoch')\n",
        "plt.ylabel('Accuracy')\n",
        "plt.title('Training and Validation Accuracy Over Epochs')\n",
        "plt.legend()\n",
        "plt.grid(True)\n",
        "plt.savefig(\"training_curve.png\", bbox_inches='tight')\n",
        "plt.show()\n"
      ],
      "metadata": {
        "colab": {
          "base_uri": "https://localhost:8080/",
          "height": 487
        },
        "id": "CmX-Pfmh8Uj4",
        "outputId": "4260382a-9164-4223-c343-8bc449ac4242"
      },
      "execution_count": 11,
      "outputs": [
        {
          "output_type": "display_data",
          "data": {
            "text/plain": [
              "<Figure size 800x500 with 1 Axes>"
            ],
            "image/png": "[encoded data removed]"
          },
          "metadata": {}
        }
      ]
    },
    {
      "cell_type": "markdown",
      "source": [
        "# Predictions"
      ],
      "metadata": {
        "id": "jYIftJ-r8qm-"
      }
    },
    {
      "cell_type": "code",
      "source": [
        "# Get raw predictions for your validation set\n",
        "preds = model_unfreeze_2.predict(X_val)\n",
        "\n",
        "# Convert softmax output to class indices\n",
        "pred_classes = np.argmax(preds, axis=1)\n",
        "\n",
        "# Show sample predictions and counts\n",
        "print(\"Sample predictions:\", pred_classes[:20])\n",
        "print(\"Unique predicted classes:\", dict(zip(*np.unique(pred_classes, return_counts=True))))"
      ],
      "metadata": {
        "colab": {
          "base_uri": "https://localhost:8080/"
        },
        "id": "Lj_s9Inv8WJk",
        "outputId": "56ba9d71-98fe-47c6-a43a-e2364bdcdfd1"
      },
      "execution_count": 13,
      "outputs": [
        {
          "output_type": "stream",
          "name": "stdout",
          "text": [
            "\u001b[1m105/105\u001b[0m \u001b[32m━━━━━━━━━━━━━━━━━━━━\u001b[0m\u001b[37m\u001b[0m \u001b[1m2s\u001b[0m 23ms/step\n",
            "Sample predictions: [0 0 0 1 1 1 1 1 1 1 0 0 0 1 0 0 1 1 1 1]\n",
            "Unique predicted classes: {np.int64(0): np.int64(1652), np.int64(1): np.int64(1682)}\n"
          ]
        }
      ]
    }
  ]
}